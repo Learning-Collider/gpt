{
 "cells": [
  {
   "cell_type": "code",
   "execution_count": 9,
   "id": "d5f1e09f",
   "metadata": {},
   "outputs": [],
   "source": [
    "import os\n",
    "import openai"
   ]
  },
  {
   "cell_type": "code",
   "execution_count": 18,
   "id": "88c69d7e",
   "metadata": {},
   "outputs": [],
   "source": [
    "# Read openai api key from secure file\n",
    "with open('gpt_apikey.txt') as api_key:\n",
    "    openai.api_key = api_key.readline()"
   ]
  },
  {
   "cell_type": "code",
   "execution_count": 19,
   "id": "0d266d1a",
   "metadata": {},
   "outputs": [
    {
     "data": {
      "text/plain": [
       "<OpenAIObject chat.completion id=chatcmpl-7DLfEp8qiotPveLlEuqk8lExeENnC at 0x2594f4f72c0> JSON: {\n",
       "  \"choices\": [\n",
       "    {\n",
       "      \"finish_reason\": \"stop\",\n",
       "      \"index\": 0,\n",
       "      \"message\": {\n",
       "        \"content\": \"The 2020 World Series was played at Globe Life Field in Arlington, Texas.\",\n",
       "        \"role\": \"assistant\"\n",
       "      }\n",
       "    }\n",
       "  ],\n",
       "  \"created\": 1683415896,\n",
       "  \"id\": \"chatcmpl-7DLfEp8qiotPveLlEuqk8lExeENnC\",\n",
       "  \"model\": \"gpt-3.5-turbo-0301\",\n",
       "  \"object\": \"chat.completion\",\n",
       "  \"usage\": {\n",
       "    \"completion_tokens\": 17,\n",
       "    \"prompt_tokens\": 57,\n",
       "    \"total_tokens\": 74\n",
       "  }\n",
       "}"
      ]
     },
     "execution_count": 19,
     "metadata": {},
     "output_type": "execute_result"
    }
   ],
   "source": [
    "# Example prompt\n",
    "# The system message helps set the behavior of the assistant\n",
    "# The user messages instruct the assistant.\n",
    "# The assistant messages help store prior responses or can be written by a developer to give examples of desired behavior.\n",
    "openai.ChatCompletion.create(\n",
    "  model=\"gpt-3.5-turbo\",\n",
    "  messages=[\n",
    "        {\"role\": \"system\", \"content\": \"You are a helpful assistant.\"},\n",
    "        {\"role\": \"user\", \"content\": \"Who won the world series in 2020?\"},\n",
    "        {\"role\": \"assistant\", \"content\": \"The Los Angeles Dodgers won the World Series in 2020.\"},\n",
    "        {\"role\": \"user\", \"content\": \"Where was it played?\"}\n",
    "    ]\n",
    ")"
   ]
  },
  {
   "cell_type": "code",
   "execution_count": 16,
   "id": "f611344e",
   "metadata": {},
   "outputs": [],
   "source": [
    "# Example method to store previous responses\n",
    "memory = []"
   ]
  },
  {
   "cell_type": "code",
   "execution_count": 17,
   "id": "2243c48b",
   "metadata": {},
   "outputs": [
    {
     "name": "stdout",
     "output_type": "stream",
     "text": [
      "\n",
      "Chicago is a vibrant city with countless attractions and things to do! Some of the must-see sites and experiences include:\n",
      "\n",
      "1. The Skydeck at Willis Tower - Take in the breathtaking views of the city and beyond from the 103rd floor of one of Chicago's tallest buildings.\n",
      "\n",
      "2. Navy Pier - A popular destination for locals and tourists alike, Navy Pier offers a variety of restaurants, shopping, and attractions, including a Ferris wheel and IMAX theater.\n",
      "\n",
      "3. Millennium Park - This public park is home to the famous \"Bean\" sculpture, as well as other stunning works of art, music festivals, and outdoor events.\n",
      "\n",
      "4. The Art Institute of Chicago - One of the world's great art museums, the Art Institute features an extensive collection of masterpieces from a range of time periods and cultures.\n",
      "\n",
      "5. Magnificent Mile - This premier shopping district is lined with high-end stores, restaurants, and hotels.\n",
      "\n",
      "6. Wrigley Field - Home of the Chicago Cubs, Wrigley Field is a beloved sports stadium and a must-visit for baseball fans.\n",
      "\n",
      "7. Riverwalk - Stroll along the Chicago River and enjoy views of the city's architecture, public art installations, and boat tours.\n",
      "\n",
      "These are just a few of the many highlights waiting for you in Chicago!\n",
      "\n"
     ]
    }
   ],
   "source": [
    "inp = \"What is there to see in Chicago?\"\n",
    "\n",
    "completion = openai.ChatCompletion.create(\n",
    "    model=\"gpt-3.5-turbo\",\n",
    "    messages=[\n",
    "        {\"role\": \"system\", \"content\": \"Take on the role of a tour guide.\"},\n",
    "        # Join previously stored responses into the \"assistant\" role to give ChatGPT api \"memory\"\n",
    "        {\"role\": \"assistant\", \"content\": ''.join(memory)},\n",
    "        {\"role\": \"user\", \"content\": inp},\n",
    "    ]\n",
    "    )\n",
    "\n",
    "memory.append(completion.choices[0].message.content)\n",
    "\n",
    "print('\\n'+completion.choices[0].message.content+'\\n')"
   ]
  }
 ],
 "metadata": {
  "kernelspec": {
   "display_name": "Python 3 (ipykernel)",
   "language": "python",
   "name": "python3"
  },
  "language_info": {
   "codemirror_mode": {
    "name": "ipython",
    "version": 3
   },
   "file_extension": ".py",
   "mimetype": "text/x-python",
   "name": "python",
   "nbconvert_exporter": "python",
   "pygments_lexer": "ipython3",
   "version": "3.9.12"
  }
 },
 "nbformat": 4,
 "nbformat_minor": 5
}
